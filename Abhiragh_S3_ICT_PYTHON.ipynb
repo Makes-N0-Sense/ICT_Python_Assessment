{
 "cells": [
  {
   "cell_type": "code",
   "execution_count": 1,
   "id": "d9827279",
   "metadata": {},
   "outputs": [],
   "source": [
    "#Section 1\n",
    "#2. Reverse a list using Python list1 = [100, 200, 300, 400, 500]\n",
    "\n",
    "list1 = [100, 200, 300, 400, 500]\n",
    "list1.reverse()"
   ]
  },
  {
   "cell_type": "code",
   "execution_count": 2,
   "id": "28a9cdc9",
   "metadata": {},
   "outputs": [
    {
     "data": {
      "text/plain": [
       "[500, 400, 300, 200, 100]"
      ]
     },
     "execution_count": 2,
     "metadata": {},
     "output_type": "execute_result"
    }
   ],
   "source": [
    "list1"
   ]
  },
  {
   "cell_type": "code",
   "execution_count": 3,
   "id": "568d10ee",
   "metadata": {},
   "outputs": [
    {
     "name": "stdout",
     "output_type": "stream",
     "text": [
      "Square Of 5 is 25\n"
     ]
    }
   ],
   "source": [
    "#4. Write a python program to find the square of 5.\n",
    "\n",
    "print(\"Square Of 5 is\",5**2)"
   ]
  },
  {
   "cell_type": "code",
   "execution_count": 10,
   "id": "99e94566",
   "metadata": {},
   "outputs": [
    {
     "name": "stdout",
     "output_type": "stream",
     "text": [
      "Sum = 600\n"
     ]
    }
   ],
   "source": [
    "#5. Write a python program to find the sum of all items in a dictionary\n",
    "dict={'a': 100, 'b':200, 'c':300}\n",
    "sum=0\n",
    "for key,item in dict.items():\n",
    "    sum=sum+item\n",
    "print(\"Sum =\",sum)"
   ]
  },
  {
   "cell_type": "code",
   "execution_count": 12,
   "id": "9478e21a",
   "metadata": {},
   "outputs": [
    {
     "name": "stdout",
     "output_type": "stream",
     "text": [
      "Current year: 2022 \n",
      "Current month: 12 \n",
      "Current day: 11\n"
     ]
    }
   ],
   "source": [
    "#Section 2\n",
    "#6. Write a python program to print the current year, month and day.\n",
    "\n",
    "from datetime import date\n",
    "date = date.today()\n",
    "print(\"Current year:\", date.year,\"\\nCurrent month:\", date.month,\"\\nCurrent day:\", date.day)"
   ]
  },
  {
   "cell_type": "code",
   "execution_count": 13,
   "id": "72b0fe74",
   "metadata": {},
   "outputs": [
    {
     "name": "stdout",
     "output_type": "stream",
     "text": [
      "\n",
      "*\n",
      "**\n",
      "***\n",
      "****\n",
      "*****\n",
      "****\n",
      "***\n",
      "**\n",
      "*\n"
     ]
    }
   ],
   "source": [
    "\"\"\"\n",
    "7. Write a Python program to construct the following pattern, using a\n",
    "nested for loop.\n",
    "*\n",
    "**\n",
    "***\n",
    "****\n",
    "*****\n",
    "****\n",
    "***\n",
    "**\n",
    "*\n",
    "\"\"\"\n",
    "for i in range(0,6):\n",
    "    for j in range(0,i):\n",
    "        print('*',end='')\n",
    "    print('')\n",
    "for i in range(4,0,-1):\n",
    "    for j in range(0,i):\n",
    "        print('*',end='')\n",
    "    print('')"
   ]
  },
  {
   "cell_type": "code",
   "execution_count": 14,
   "id": "3de50f72",
   "metadata": {},
   "outputs": [
    {
     "name": "stdout",
     "output_type": "stream",
     "text": [
      "20\n",
      "60\n",
      "30\n"
     ]
    }
   ],
   "source": [
    "#9. Display all duplicate items from a list given: 10, 20, 60, 30, 20, 40, 30, 60, 70, 80\n",
    "\n",
    "list1=[10, 20, 60, 30, 20, 40, 30, 60, 70, 80]\n",
    "l=len(list1)\n",
    "for i in range(0,l):\n",
    "    for j in range(i+1,l):\n",
    "        if list1[i]==list1[j]:\n",
    "            print(list1[i])"
   ]
  },
  {
   "cell_type": "code",
   "execution_count": 15,
   "id": "3fedff47",
   "metadata": {},
   "outputs": [
    {
     "name": "stdout",
     "output_type": "stream",
     "text": [
      "[5, [10, 15, [20, 25, [30, 3500], 40], 45], 50]\n"
     ]
    }
   ],
   "source": [
    "#Section 3\n",
    "'''\n",
    "12. Modify the element of a nested list inside the following list:\n",
    "Sample input : list1 = [5, [10, 15, [20, 25, [30, 35], 40], 45], 50]\n",
    "Change the element 35 to 3500\n",
    "'''\n",
    "list1 = [5, [10, 15, [20, 25, [30, 35], 40], 45], 50]\n",
    "list1[1][2][2][1]=3500\n",
    "print(list1)"
   ]
  },
  {
   "cell_type": "code",
   "execution_count": 16,
   "id": "5f820240",
   "metadata": {},
   "outputs": [
    {
     "name": "stdout",
     "output_type": "stream",
     "text": [
      "Enter String: adfaf54283724@@$as8df4a\n",
      "a\n",
      "d\n",
      "f\n",
      "a\n",
      "f\n",
      "a\n",
      "s\n",
      "d\n",
      "f\n",
      "a\n"
     ]
    }
   ],
   "source": [
    "#13. Write a while loop to display only alphabets from a string.\n",
    "\n",
    "string=input(\"Enter String: \")\n",
    "l=len(string)\n",
    "c=0\n",
    "while c<len(string):\n",
    "    if string[c].isalpha():\n",
    "        print(string[c])\n",
    "    c+=1"
   ]
  },
  {
   "cell_type": "code",
   "execution_count": 17,
   "id": "ab2674d4",
   "metadata": {},
   "outputs": [
    {
     "name": "stdout",
     "output_type": "stream",
     "text": [
      "1. Celsius to Fahrenheit\n",
      "2. Fahrenheit to Celsius\n",
      "3. Exit\n",
      "Enter Choice: 1\n",
      "Enter Celsius: 100\n",
      "100 celsius in fahrenheit is 212.0\n",
      "1. Celsius to Fahrenheit\n",
      "2. Fahrenheit to Celsius\n",
      "3. Exit\n",
      "Enter Choice: 2\n",
      "Enter Fahrenheit: 212\n",
      "212 fahrenheit in celsius is 100.0\n",
      "1. Celsius to Fahrenheit\n",
      "2. Fahrenheit to Celsius\n",
      "3. Exit\n",
      "Enter Choice: 5\n",
      "Invalid Choice\n",
      "1. Celsius to Fahrenheit\n",
      "2. Fahrenheit to Celsius\n",
      "3. Exit\n",
      "Enter Choice: 3\n",
      "EXITING...\n"
     ]
    }
   ],
   "source": [
    "#15. Python program to convert the temperature in degree centigrade to Fahrenheit and vice versa.\n",
    "while True:\n",
    "    print(\"1. Celsius to Fahrenheit\\n2. Fahrenheit to Celsius\\n3. Exit\")\n",
    "    ch=int(input(\"Enter Choice: \"))\n",
    "    if ch==1:\n",
    "       celsius = int(input(\"Enter Celsius: \"))\n",
    "       print(celsius,\"celsius in fahrenheit is\",(celsius * 1.8) + 32)\n",
    "    elif ch==2:\n",
    "        fahrenheit = int(input(\"Enter Fahrenheit: \"))\n",
    "        print(fahrenheit,\"fahrenheit in celsius is\",(fahrenheit - 32)/1.8)\n",
    "    elif ch==3:\n",
    "        print(\"EXITING...\")\n",
    "        break\n",
    "    else:\n",
    "        print(\"Invalid Choice\")"
   ]
  },
  {
   "cell_type": "code",
   "execution_count": null,
   "id": "0c706ea7",
   "metadata": {},
   "outputs": [],
   "source": []
  }
 ],
 "metadata": {
  "kernelspec": {
   "display_name": "Python 3 (ipykernel)",
   "language": "python",
   "name": "python3"
  },
  "language_info": {
   "codemirror_mode": {
    "name": "ipython",
    "version": 3
   },
   "file_extension": ".py",
   "mimetype": "text/x-python",
   "name": "python",
   "nbconvert_exporter": "python",
   "pygments_lexer": "ipython3",
   "version": "3.9.13"
  }
 },
 "nbformat": 4,
 "nbformat_minor": 5
}
